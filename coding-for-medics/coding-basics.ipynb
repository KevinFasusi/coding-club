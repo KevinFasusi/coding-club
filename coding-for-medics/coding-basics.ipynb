{
  "cells": [
    {
      "cell_type": "markdown",
      "metadata": {
        "id": "view-in-github",
        "colab_type": "text"
      },
      "source": [
        "<a href=\"https://colab.research.google.com/github/nhs-pycom/coding-club/blob/main/coding-for-medics/coding-basics.ipynb\" target=\"_parent\"><img src=\"https://colab.research.google.com/assets/colab-badge.svg\" alt=\"Open In Colab\"/></a>"
      ]
    },
    {
      "cell_type": "markdown",
      "metadata": {
        "id": "DlTXKMhdwrDH"
      },
      "source": [
        "# 👩‍🏫 Coding for Medics Tutorial 1 - Coding Basics\n",
        "# Learning Objectives\n",
        " - Understand the syntax of Python\n",
        " - Understand variables in Python\n",
        " - Utilise comments to begin establishing good coding practices\n",
        " - Apply understanding of variables to update variable values\n",
        " - Understand and differentiate between data types\n",
        " - Utilise f-strings\n",
        " - Apply knowledge of syntax and variables to create basic programs"
      ]
    },
    {
      "cell_type": "markdown",
      "source": [
        "# 🐍 Python Syntax and Variables \n",
        "\n",
        "Similar to English, you write Python code in a specific way.\n",
        "\n",
        "You'll understand this properly by writing your own code!\n",
        "\n"
      ],
      "metadata": {
        "id": "Ehfhe50ZD1gW"
      }
    },
    {
      "cell_type": "markdown",
      "source": [
        "## 📖 Task - Hello World!\n",
        "1. <input type=\"checkbox\"> Type your name in the coding cell below and run the cell\n",
        "    - You will get an error. Don't worry, errors in programming are everywhere and you should get comfortable seeing them.\n"
      ],
      "metadata": {
        "id": "mJraFLgaH8ZQ"
      }
    },
    {
      "cell_type": "code",
      "source": [
        "# write your code below\n"
      ],
      "metadata": {
        "id": "mgINe0RSEPxW"
      },
      "execution_count": null,
      "outputs": []
    },
    {
      "cell_type": "markdown",
      "source": [
        "## 📖 Task - The `print()` statement\n",
        "To get our program to print out text, we actually need to use the in-built `print()` function.\n",
        "\n",
        "```python\n",
        "print('Hello world!')\n",
        "```\n",
        "```\n",
        ">>> Hello world!\n",
        "```\n",
        "\n",
        "- This function takes in any text surrounded by `' '` or `\" \"` and prints the message to the screen. \n",
        "\n"
      ],
      "metadata": {
        "id": "6pIj1bhLG-RU"
      }
    },
    {
      "cell_type": "markdown",
      "source": [
        "### ✍ Task 1\n",
        "1. <input type=\"checkbox\"> Use the `print()` function to print the message `\"Hello, my name is NAME\"` where `NAME` is your name.\n",
        "\n",
        "Some important points to note:\n",
        "- Spaces between characters on the same line technically don't matter as the code will still run. \n",
        "- However, `print('Anchit')` is more visually more clear than `print ( ' Anchit ' ) `.\n",
        "- Moreover, Google Colab's text highlighting which helps identify keywords in your code may not work if you add spaces where they're not needed.\n",
        "- The last line's output will always be shown regardless of whether you print it out (but get into good habits by always using `print`).\n",
        "\n",
        "<details>\n",
        "\n",
        "<summary><font color='red'><b>Click&nbsp;for&nbsp;SOLUTION</b></font></summary>\n",
        "\n",
        "```python\n",
        "print('Hello, my name is Anchit')\n",
        "\n",
        "```\n",
        "\n",
        "</details>"
      ],
      "metadata": {
        "id": "PKZCDSDzXZFH"
      }
    },
    {
      "cell_type": "code",
      "source": [
        "# write your code below\n"
      ],
      "metadata": {
        "id": "_c8Y7n6GG6x0"
      },
      "execution_count": null,
      "outputs": []
    },
    {
      "cell_type": "markdown",
      "source": [
        "## 📖 Task - Comments\n",
        "\n",
        "Comments are used to explain your code - both for yourself and others. Python will **ignore** this text when running the program.\n",
        "\n",
        "- To tell Python what you're writing is a *comment*, place a `#` hashtag at the beginning of the line.\n",
        "- In Google Colab, comments are highlighted in a different colour:\n",
        "\n",
        "```python\n",
        "# this is a comment\n",
        "\n",
        "print('This code will run!')\n",
        "# print('This code WON'T run!')\n",
        "```\n",
        "\n",
        "- For a *multi-line comment*, you select the relevant lines, and press <kbd>Ctrl</kbd> + <kbd>/</kbd> which toggles those lines as comments. This can also be used if you temporarily want to skip over any parts of your program for testing.\n",
        "\n",
        "- To establish good habits early, you should write a comment above each line of code, explaining what it does.\n",
        "\n"
      ],
      "metadata": {
        "id": "Ep27YqrpJDMO"
      }
    },
    {
      "cell_type": "markdown",
      "source": [
        "### ✍ Task 1\n",
        "In the coding cell below, you can see a bunch of random text which means the code doesn't work. Let's fix it:\n",
        "1. <input type=\"checkbox\"> Comment out the first line by typing `#` at the beginning.\n",
        "2. <input type=\"checkbox\"> Comment out the remaining non-code text at once by highlighting and using <kbd>Ctrl</kbd> + <kbd>/</kbd> (or `CMD + /` on Macs).\n",
        "3. <input type=\"checkbox\"> Uncomment the final `print()` statement.\n",
        "4. <input type=\"checkbox\"> Run your code - it should be working!\n",
        "\n",
        "<details>\n",
        "\n",
        "<summary><font color='red'><b>Click&nbsp;for&nbsp;SOLUTION</b></font></summary>\n",
        "\n",
        "```python\n",
        "# hi\n",
        "\n",
        "# welcome to\n",
        "\n",
        "# Coding for Medics\n",
        "\n",
        "# with Albert and Anchit!\n",
        "\n",
        "print(\"Well done! You're beginning to learn how to properly write code!\")\n",
        "\n",
        "```\n",
        "\n",
        "</details>"
      ],
      "metadata": {
        "id": "VxLmAPRiJkts"
      }
    },
    {
      "cell_type": "code",
      "source": [
        "hi\n",
        "\n",
        "welcome to\n",
        "\n",
        "Coding for Medics\n",
        "\n",
        "with Albert and Anchit!\n",
        "\n",
        "# print(\"Well done! You're beginning to learn how to properly write code!\")"
      ],
      "metadata": {
        "id": "5M_i3D6QJRtG"
      },
      "execution_count": null,
      "outputs": []
    },
    {
      "cell_type": "markdown",
      "source": [
        "## 📖 Task - Mathematical Operations\n",
        "You can use Python like a calculator! \n",
        "\n",
        "Much of coding often comes down to maths, especially in medicine. In this exercise, we will cover the important arithmetic operators.\n",
        "```python\n",
        "# Adding\n",
        "2 + 2\n",
        "\n",
        "# Subtracting\n",
        "2 - 2\n",
        "\n",
        "# Multiplying\n",
        "6 * 2\n",
        "\n",
        "# Dividing\n",
        "6 / 2\n",
        "\n",
        "# Powers\n",
        "2 ** 3\n",
        "```\n",
        "\n"
      ],
      "metadata": {
        "id": "h4pEw7L5JGU6"
      }
    },
    {
      "cell_type": "markdown",
      "source": [
        "### ✍ Task 1 - `print` out the answers to these maths questions \n",
        "1. <input type=\"checkbox\"> On Line 1, print out 300 x 53. \n",
        "2. <input type=\"checkbox\"> On Line 2, print out 23 + 40 x 8\n",
        "3. <input type=\"checkbox\"> On Line 3, print out the square root of 25\n",
        "4. <input type=\"checkbox\"> On Line 4, print out 39 - 50 + 12 x 39 ÷ ( 5 to the power of 4 )\n",
        "\n",
        "<details>\n",
        "\n",
        "<summary><font color='red'><b>Click&nbsp;for&nbsp;SOLUTION</b></font></summary>\n",
        "\n",
        "\n",
        "```python\n",
        "print(300*53)\n",
        "print(23+40*8)\n",
        "print(25**0.5)\n",
        "print(39-50+12*39/(5**4))\n",
        "\n",
        "```\n",
        "\n",
        "</details>"
      ],
      "metadata": {
        "id": "zWmE_nO2ePJD"
      }
    },
    {
      "cell_type": "code",
      "source": [
        "\n",
        "#### ANSWERS\n",
        "# 1) 15900\n",
        "# 2) 343\n",
        "# 3) 5.0\n",
        "# 4) -10.2512"
      ],
      "metadata": {
        "id": "iFb5t4Z5P_L9"
      },
      "execution_count": null,
      "outputs": []
    },
    {
      "cell_type": "markdown",
      "source": [
        "## 📖 Task - Variable Assignment\n",
        "\n",
        "Variables are fundamental to programming, not just in Python. They store information, allowing you to write complicated code and prevent you repeating yourself. \n",
        "\n",
        "You *define* a variable like so:\n",
        "<figure>\n",
        "<center>\n",
        "<img src='https://drive.google.com/uc?export=view&id=1FxoyviOYdhND9Lf7FACRPhdaDsofCtci' width=550 height=550/>\n",
        "<figcaption>Variable Anatomy</figcaption></center>\n",
        "</figure>\n",
        "\n",
        "- On the left of the `=` sign, you <em>define</em> the variable name - in this case, our variable is called `name`.\n",
        "- On the right of the `=` sign, you write the value you want to *assign* to the variable  - in this case, the string `'Albert'`.\n",
        "\n"
      ],
      "metadata": {
        "id": "sUvLBHnpNKDp"
      }
    },
    {
      "cell_type": "markdown",
      "source": [
        "### ✍ Task 1 - Creating your own variables\n",
        "1. <input type=\"checkbox\"> Define a variable called `age` and assign it the value of your age as an *integer*.\n",
        "2. <input type=\"checkbox\"> Define a variable called `name` and assign it the value of your name as a string (i.e. surrounded by either `' '` or `\" \"`).\n",
        "3. <input type=\"checkbox\"> Print out both variables.\n",
        "\n",
        "<details>\n",
        "\n",
        "<summary><font color='red'><b>Click&nbsp;for&nbsp;SOLUTION</b></font></summary>\n",
        "\n",
        "```python\n",
        "age = 24\n",
        "name = \"Anchit\"\n",
        "print(age)\n",
        "print(name)\n",
        "```\n",
        "\n",
        "</details>"
      ],
      "metadata": {
        "id": "hE8hXlWWeLYW"
      }
    },
    {
      "cell_type": "code",
      "source": [
        ""
      ],
      "metadata": {
        "id": "GHeVbFq4Ssua"
      },
      "execution_count": null,
      "outputs": []
    },
    {
      "cell_type": "markdown",
      "source": [
        "## 📖 Task - Variable Naming Conventions\n",
        "\n",
        "Python requires variables to be named in certain ways:\n",
        "1. There can be <em>no spaces</em> in the name: `my Age = 10` would throw an error.\n",
        "2. By convention, variables usually start with lowercase letters (<em>but this isn't necessary - </em>`Myage`<em> would still work</em>)\n",
        "3. If you have multiple words in your variable name, you can separate them in certain ways to improve readability:\n",
        "    - <b>Underscores</b>: `patient_details_from_hospital` - you use underscores to separate words. This is the 'Pythonic' way to name variables and is generally preferred.\n",
        "    - <b>Camel Case</b>: `patientDetailsFromHospital` - the first letter of the second word onwards is capitalised.\n",
        "4. Names are <b>case-sensitive</b>. These would all be different variables: `BloodPressure`,`bloodpressure`,`blOOdpRessure`\n",
        "5. You can put numbers into the variable name: `patient1`,`patient2`. \n",
        "    - <em>NOTE: the variable can't <b>start</b> with a number - this will throw a `SyntaxError`.</em>\n",
        "6. The names should describe what is being stored.\n",
        "  - They shouldn't be too short: `a`\n",
        "  - They shouldn't be too long: `a_very_very_unnecessarily_long_variable_name_that_perfectly_describes_what_is_being_stored`\n",
        "  - You will get a feel for good names very quickly as you gain more experience! \n",
        "\n"
      ],
      "metadata": {
        "id": "G9n6n-xvfh6v"
      }
    },
    {
      "cell_type": "markdown",
      "source": [
        "#### ✍ Task 1 - Fix these names\n",
        "1. <input type=\"checkbox\"> Fix the variable names below so the code runs!\n",
        "\n",
        "<details>\n",
        "\n",
        "<summary><font color='red'><b>Click&nbsp;for&nbsp;SOLUTION</b></font></summary>\n",
        "\n",
        "```python\n",
        "why_will_this_not_work = \"I don't know!\" # fix me!\n",
        "\n",
        "adamKay23 = 'The real Adam Kay' # fix me!\n",
        "\n",
        "g_m_c = 'uh oh' # fix me!\n",
        "\n",
        "print(why_will_this_not_work)\n",
        "print(adamKay23)\n",
        "print(gmc)\n",
        "```\n",
        "\n",
        "</details>"
      ],
      "metadata": {
        "id": "7EU036jA4NmJ"
      }
    },
    {
      "cell_type": "code",
      "source": [
        "why will this not work = \"I don't know!\" # fix me!\n",
        "\n",
        "23adamKay   = 'The real Adam Kay' # fix me!\n",
        "\n",
        "GMC = 'uh oh' # fix me!\n",
        "\n",
        "print(why_will_this_not_work)\n",
        "print(adamKay23)\n",
        "print(gmc)"
      ],
      "metadata": {
        "id": "z3GSC_Fxfmfd"
      },
      "execution_count": null,
      "outputs": []
    },
    {
      "cell_type": "markdown",
      "source": [
        "## 📖 Task - Updating Variables\n",
        "You can update the value stored in your variables by simply typing the variable name and the new value:\n",
        "```python\n",
        "patient_name = 'Anchit'\n",
        "print(patient_name)\n",
        "\n",
        "patient_name = 'Albert'\n",
        "print(patient_name)\n",
        "\n",
        ">>>'Anchit'\n",
        ">>>'Albert'\n",
        "```\n",
        "- We define a variable called `patient_name` and assign it the value `'Anchit'`.\n",
        "- After printing out the value stored in `patient_name`, we update the variable by reassigning it the value of `Albert`.\n",
        "\n"
      ],
      "metadata": {
        "id": "ZhvYTVNudYPY"
      }
    },
    {
      "cell_type": "markdown",
      "source": [
        "#### ✍ Task 1 - Update these variables\n",
        "1. <input type=\"checkbox\"> On Line 1, define a variable `age_1` and assign it any age as an integer.\n",
        "    - *Make sure you type the name exactly, including the underscore!*\n",
        "2. <input type=\"checkbox\"> On Line 2, define a variable `age_2` and assign it a different age.\n",
        "3. <input type=\"checkbox\"> On Line 3, update the age stored in `age_1`.\n",
        "4. <input type=\"checkbox\"> Finally, print out `age_1` and `age_2`.\n",
        "\n",
        "<details>\n",
        "\n",
        "<summary><font color='red'><b>Click&nbsp;for&nbsp;SOLUTION</b></font></summary>\n",
        "\n",
        "```python\n",
        "age_1 = 24\n",
        "age_2 = 84\n",
        "age_1 = 33\n",
        "print(age_1)\n",
        "print(age_2)\n",
        "\n",
        ">>> 33\n",
        ">>> 84\n",
        "```\n",
        "\n",
        "</details>"
      ],
      "metadata": {
        "id": "Huv9Flw54edW"
      }
    },
    {
      "cell_type": "code",
      "source": [
        ""
      ],
      "metadata": {
        "id": "z-t5ADKA8TGZ"
      },
      "execution_count": null,
      "outputs": []
    },
    {
      "cell_type": "markdown",
      "source": [
        "### ✍ Task 2 - Variables and maths\n",
        "We can use the variable names in our code to do maths on instead on numbers themselves.\n",
        "\n",
        "1. <input type=\"checkbox\"> Define a variable called `dob` and save your year of birth as an integer e.g. `1997`\n",
        "2. <input type=\"checkbox\"> Define a variable called `current_year` and assign it the current year as an integer.\n",
        "3. <input type=\"checkbox\"> Define a variable called `age` that subtracts `dob` from `current_year`.\n",
        "4. <input type=\"checkbox\"> Print out `age`.\n",
        "\n",
        "<details>\n",
        "\n",
        "<summary><font color='red'><b>Click&nbsp;for&nbsp;SOLUTION</b></font></summary>\n",
        "\n",
        "```python\n",
        "dob = 1997\n",
        "current_year = 2022\n",
        "age = current_year - dob\n",
        "print(age)\n",
        "\n",
        ">>> 24\n",
        "```\n",
        "\n",
        "</details>"
      ],
      "metadata": {
        "id": "DNz_CU5LfNQs"
      }
    },
    {
      "cell_type": "code",
      "source": [
        ""
      ],
      "metadata": {
        "id": "JJhIvNmqiFqx"
      },
      "execution_count": null,
      "outputs": []
    },
    {
      "cell_type": "markdown",
      "source": [
        "### ✍ Task 3 - Variables and text\n",
        "We can use variables to combine different text (or *strings*) together.\n",
        "1. <input type=\"checkbox\"> Define a variable `first_name` and assign it your first name surrounded by single (`' '`) or double (`\" \"`) quotes.\n",
        "2. <input type=\"checkbox\"> Define a variable `last_name` in a similar way.\n",
        "3. <input type=\"checkbox\"> Print the following exactly: `print(\"My name is \" + first_name + last_name`)\n",
        "\n",
        "<details>\n",
        "\n",
        "<summary><font color='red'><b>Click&nbsp;for&nbsp;SOLUTION</b></font></summary>\n",
        "\n",
        "```python\n",
        "first_name = 'Anchit'\n",
        "last_name = 'Chandran'\n",
        "print(\"My name is \" + first_name + last_name)\n",
        "\n",
        ">>> \"My name is AnchitChandran\"\n",
        "```\n",
        "\n",
        "</details>"
      ],
      "metadata": {
        "id": "88PLiytftWWX"
      }
    },
    {
      "cell_type": "code",
      "source": [
        ""
      ],
      "metadata": {
        "id": "TUtg-E_ntgf3"
      },
      "execution_count": null,
      "outputs": []
    },
    {
      "cell_type": "markdown",
      "source": [
        "## 🔍 *Extra information on variables*\n",
        "- Variables aren't the values stored inside; they're just names (or *pointers*) to the value.\n",
        "- For example, when you define a variable called `patient` and assign it the value of `\"Tom Hardy\"`, the value itself gets stored in the computer's memory as an *object*. The name `patient` tells Python that you want to access the value stored in that location.\n",
        "\n",
        "\n",
        "<figure>\n",
        "<center>\n",
        "<img src='https://drive.google.com/uc?export=view&id=1l3fjvJ4Epu9XBdJV6loqdr-MeJ2Y2GTq' width=350 height=350/>\n",
        "<figcaption>Variable Assignment Visual</figcaption></center>\n",
        "</figure>\n",
        "\n",
        "\n"
      ],
      "metadata": {
        "id": "0ywMIdr-kHDo"
      }
    },
    {
      "cell_type": "markdown",
      "source": [
        "## 📖 Task - Data Types\n",
        "Data types are a foundational concept in programming.\n",
        "\n",
        "You've already worked with a couple of different types: `int` and `string`.\n",
        "\n",
        "Different *types* of values all do different things. If you were asked to subtract the number 5 from the word \"cannula\", you'd have no idea what to do!\n",
        "\n",
        "**These are the most important types in Python that we'll cover in this tutorial:**\n",
        "\n",
        "| data type | example                                                               | notes                                                                                                                                                  |\n",
        "|-----------|-----------------------------------------------------------------------|--------------------------------------------------------------------------------------------------------------------------------------------------------|\n",
        "| string    | `\"i'm a string and i'm surrounded by either single or double quotes\"` | *these are \"strings\" of **char**acters*                                                                                                                |\n",
        "| integer   | `10`                                                                  | *these are whole numbers*                                                                                                                              |\n",
        "| float     | `10.0`                                                                | *decimal numbers are defined separately to whole numbers due to how computers work. you don't need to know the why, just be aware they are different.* |\n",
        "\n",
        "**These will be covered in future tutorials:**\n",
        "\n",
        "| **Data Type**     | **Example**                     |\n",
        "|-------------------|---------------------------------|\n",
        "| Bool              | `True` or `False`               |\n",
        "| List (container)  | `['htn','diabetes','copd']`     |\n",
        "| Tuple (container) | `('htn','diabetes','copd')`     |\n",
        "| Dict (container)  | `{'patient_a_disease' : 'htn'}` |\n",
        "\n",
        "\n"
      ],
      "metadata": {
        "id": "x0am0NA7fX4A"
      }
    },
    {
      "cell_type": "markdown",
      "source": [
        "### ✍ Task 1 - Ints and strings don't mix\n",
        "Let's try printing a simple message whilst using variables: `\"The patient's name is Alex Fleming. He is 30 years old.\"`\n",
        "1. <input type=\"checkbox\"> Define a variable `patient_name` and assign it any *string* as a name.\n",
        "2. <input type=\"checkbox\"> Define a variable `patient_age` and assign it the *int* `30`.\n",
        "3. <input type=\"checkbox\"> For now, just print the following *string*: `\"The patient's name is \"` followed by the `patient_name`.\n",
        "4. <input type=\"checkbox\"> Now try adding to the same print statement, `\". He is \" + patient_age + \" years old.\"`\n",
        "\n",
        "The code should throw a `TypeError`.\n",
        "\n",
        "<details>\n",
        "\n",
        "<summary><font color='red'><b>Click&nbsp;for&nbsp;SOLUTION</b></font></summary>\n",
        "\n",
        "```python\n",
        "patient_name = \"Alex Fleming\"\n",
        "patient_age = 30\n",
        "print(\"The patient's name is \" + patient_name + \". He is \" + patient_age + \" years old.\")\n",
        "```\n",
        "<pre>>>> TypeError: can only concatenate str (not \"int\") to str`</pre>\n",
        "\n",
        "</details>"
      ],
      "metadata": {
        "id": "bPzNPsSirQVe"
      }
    },
    {
      "cell_type": "code",
      "source": [
        ""
      ],
      "metadata": {
        "id": "CI-NzuAMuTy5"
      },
      "execution_count": null,
      "outputs": []
    },
    {
      "cell_type": "markdown",
      "source": [
        "## 👨🏽‍🏫 How to use the Slack Channel for help\n",
        "\n",
        "Go onto the `# weekend-crashcourse` channel.\n",
        "\n",
        "Copy and paste your code, and the error, using the codeblock and one of our tutors will provide help."
      ],
      "metadata": {
        "id": "Vsmq_zYHXkea"
      }
    },
    {
      "cell_type": "markdown",
      "source": [
        "#### ✍ Task 1.2 - Ints and strings don't mix *cont*.\n",
        "We get a particular error (`TypeError`) because we've tried do a particular action on a data type which doesn't have the required functionality.\n",
        "\n",
        "We're trying to add the `int` stored in `patient_age` to the `string` which isn't possible, *unless* we first convert the `int` to a string.\n",
        "\n",
        "In Python, switching between data types can be done through:\n",
        "```python\n",
        "# converting to string\n",
        "patient_age = 30\n",
        "print('Age as a string: ' + str(patient_age))\n",
        "\n",
        "# converting to int\n",
        "current_year = \"2022\"\n",
        "patient_birth_year = int(current_year) - patient(age)\n",
        "print(patient_birth_year)\n",
        "```\n",
        "1. <input type=\"checkbox\"> Let's fix the previous code. Copy and paste it into the code cell below.\n",
        "2. <input type=\"checkbox\"> This time, convert `patient_age` to a `str`. It should now work!\n",
        "\n",
        "<details>\n",
        "\n",
        "<summary><font color='red'><b>Click&nbsp;for&nbsp;SOLUTION</b></font></summary>\n",
        "\n",
        "```python\n",
        "patient_name = \"Alex Fleming\"\n",
        "patient_age = 30\n",
        "print(\"The patient's name is \" + patient_name + \". He is \" + str(patient_age) + \" years old.\")\n",
        "```\n",
        "<pre>>>> The patient's name is Alex Fleming. He is 30 years old.</pre>\n",
        "\n",
        "</details>"
      ],
      "metadata": {
        "id": "bjpHLsk0uVcD"
      }
    },
    {
      "cell_type": "code",
      "source": [
        ""
      ],
      "metadata": {
        "id": "eeTSRPxYwOu8"
      },
      "execution_count": null,
      "outputs": []
    },
    {
      "cell_type": "markdown",
      "source": [
        "### ✍ Task 2 - Checking the type\n",
        "We can check the data type by using the `type()` function.\n",
        "```python\n",
        "print( type('this is a string') )\n",
        "print( type(23) )\n",
        "print( type(40.234) )\n",
        "print( type(True) )\n",
        "print( type(2 == 2) )\n",
        "print( type(10 > 100) )\n",
        ">>> <class 'str'>\n",
        ">>> <class 'int'>\n",
        ">>> <class 'float'>\n",
        ">>> <class 'bool'>\n",
        ">>> <class 'bool'>\n",
        ">>> <class 'bool'>\n",
        "```\n",
        "1. <input type=\"checkbox\"> Print the type of `\"heart rate is 67\"`\n",
        "2. <input type=\"checkbox\"> Print the type of `11.1`\n",
        "3. <input type=\"checkbox\"> Print the type of `67`\n",
        "\n",
        "<details>\n",
        "\n",
        "<summary><font color='red'><b>Click&nbsp;for&nbsp;SOLUTION</b></font></summary>\n",
        "\n",
        "```python\n",
        "print(type(\"heart rate is 67\"))\n",
        "print(type(11.1))\n",
        "print(type(67))\n",
        "```\n",
        "\n",
        "</details>"
      ],
      "metadata": {
        "id": "vcqNWlPgwb0u"
      }
    },
    {
      "cell_type": "code",
      "source": [
        ""
      ],
      "metadata": {
        "id": "Fe-FsY9ew4ms"
      },
      "execution_count": null,
      "outputs": []
    },
    {
      "cell_type": "markdown",
      "source": [
        "### ✍ Task 3 - F-strings\n",
        "When we have multiple values we wish to `print`, we've been *concatenating* them using `+`.\n",
        "\n",
        "This is fine, but can make complicated strings look messy.\n",
        "\n",
        "To make life simpler, we can use *f-strings*. These work in the same way as normal strings, except you type `f` before the string. \n",
        "\n",
        "We can directly place code inside f-strings using curly braces `{ }`! Have a look the two ways to print out the same message below:\n",
        "\n",
        "```python\n",
        "first_name = 'Anchit'\n",
        "last_name = 'Chandran'\n",
        "age = 24\n",
        "\n",
        "# The old way makes adding variables look messy\n",
        "print('My name is ' + first_name + ' ' + last_name + \". And I'm \" + str(age) + ' years old.')\n",
        "\n",
        "# f-strings make this code more similar to English!\n",
        "print(f'My name is {first_name} {last_name}. And I\\'m {age} years old. I was born in {2022-age}.')\n",
        "```\n",
        "- f-strings are super useful because it makes code more readable!\n",
        "- Notice how we don't have to worry about the type of `age` - we can place `int`s directly into `strings`.\n",
        "- Also, you can write code inside the curly braces `{ }`! This code will be run when the string is printed and the output gets inserted into the string. \n",
        "- The backslash in `I\\'m` tells Python to treat the `'` as a piece of text, rather than the end of the string.\n",
        "\n",
        "Time for you to practice!\n",
        "\n",
        "1. <input type=\"checkbox\"> Define the following variables with appropriate value types:\n",
        "    - `patient_name`, and save a name as a string.\n",
        "    - `age`, and save your age as an int.\n",
        "    - `blood_glucose`, and save a blood glucose reading as a float.\n",
        "    - `sbp`, and save to it any systolic blood pressure as an int.\n",
        "    - `dbp`, and save to it any diastolic blood pressure as an int.\n",
        "    - `chadvasc_score`, and save to it the int `3`.\n",
        "\n",
        "1. <input type=\"checkbox\"> Using f-strings, print the following statements (each as separate print statements), replacing ALL_CAPS words with the relevant variable/code:\n",
        "    - `\"PATIENT_NAME is AGE years old.\"`\n",
        "    - `\"PATIENT_NAME was born in {2022-AGE}.\"`\n",
        "    - `\"PATIENT_NAME's Mean Arterial Pressure is {(2*(DBP+SBP))/3}\"`\n",
        "    - `\"PATIENT_NAME's serum blood glucose is BLOOD_GLUCOSE\"`\n",
        "    - `\"PATIENT_NAME's CHA₂DS₂-VASc Score is CHADVASC_SCORE. Please advise anti-coagulation.\"`\n",
        "\n",
        "<details>\n",
        "\n",
        "<summary><font color='red'><b>Click&nbsp;for&nbsp;SOLUTION</b></font></summary>\n",
        "\n",
        "```python\n",
        "patient_name = 'Albert'\n",
        "age = 24\n",
        "blood_glucose = 7.5\n",
        "sbp = 120\n",
        "dbp = 80\n",
        "chadvasc_score = 3\n",
        "\n",
        "print(f\"{patient_name} is {age} years old.\")\n",
        "print(f\"{patient_name} was born in {2022-age}.\")\n",
        "print(f\"{patient_name}'s Mean Arterial Pressure is {(2*(dbp+sbp))/3}\")\n",
        "print(f\"{patient_name}'s serum blood glucose is {blood_glucose}\")\n",
        "print(f\"{patient_name}'s CHA₂DS₂-VASc Score is {chadvasc_score}. Please advise anti-coagulation.\")\n",
        "\n",
        ">>> \"Albert is 24 years old.\"\n",
        ">>> \"Albert was born in 1998.\"\n",
        ">>> \"Albert's Mean Arterial Pressure is 133.33333333333334\"\n",
        ">>> \"Albert's serum blood glucose is 7.5\"\n",
        ">>> \"Albert's CHA₂DS₂-VASc Score is 3. Please advise anti-coagulation.\"\n",
        "```\n",
        "\n",
        "</details>"
      ],
      "metadata": {
        "id": "qqDMqt5CGAsz"
      }
    },
    {
      "cell_type": "code",
      "source": [
        ""
      ],
      "metadata": {
        "id": "daUx62QvGCQD"
      },
      "execution_count": null,
      "outputs": []
    },
    {
      "cell_type": "markdown",
      "source": [
        "## 📖 Task - Start making programs!\n",
        "We've covered a lot and we're almost able to make our first program!\n",
        "\n",
        "But first, we'll cover one more important function: `input()`.\n",
        "\n",
        "The function will get information in from the user of your program, which can be stored in variable and used in your code! \n",
        "\n",
        "It takes *1 argument*, a string, which is the prompt shown to the user to enter something and returns a *string*, even if the user enters a number.\n",
        "\n",
        "1. <input type=\"checkbox\"> Run the code below to see how it works!"
      ],
      "metadata": {
        "id": "_Vn8vuwSfZqg"
      }
    },
    {
      "cell_type": "code",
      "source": [
        "diagnosis = input(\"Please enter the patient's diagnosis: \")\n",
        "\n",
        "print(f'The patient\\'s diagnosis is: {diagnosis}')"
      ],
      "metadata": {
        "id": "E-LJbPEFy8-t"
      },
      "execution_count": null,
      "outputs": []
    },
    {
      "cell_type": "markdown",
      "source": [
        "### ✍ Task 1 - Using `input()`\n",
        "1. <input type=\"checkbox\"> Use the `input()` command to ask a user for their name.\n",
        "2. <input type=\"checkbox\"> Save this to a variable called `name`.\n",
        "3. <input type=\"checkbox\"> `print` a response that is: `\"Your name is: \"`, followed by their name, stored in the `name` variable.\n",
        "\n",
        "<details>\n",
        "\n",
        "<summary><font color='red'><b>Click&nbsp;for&nbsp;SOLUTION</b></font></summary>\n",
        "\n",
        "```python\n",
        "name = input('What is your name?')\n",
        "print(\"Your name is: {name}\")\n",
        "```\n",
        "\n",
        "</details>"
      ],
      "metadata": {
        "id": "9bwBG8WmyI3-"
      }
    },
    {
      "cell_type": "code",
      "source": [
        ""
      ],
      "metadata": {
        "id": "7fj5Gg01yRQb"
      },
      "execution_count": null,
      "outputs": []
    },
    {
      "cell_type": "markdown",
      "source": [
        "### ✍ Task 2 - Calculating age\n",
        "1. <input type=\"checkbox\"> Use `input()` to save a value in a variable called `age`, with an appropriate prompt.\n",
        "2. <input type=\"checkbox\"> Use `input()` to save a value in a variable called `current_year`, with an appropriate prompt.\n",
        "3. <input type=\"checkbox\"> Subtract `age` from `current_year` to get the patient's year of birth. Save this in a variable called `birth_year`. \n",
        "    - *Remember to convert to `int` if you want to do maths!*\n",
        "3. <input type=\"checkbox\"> Print out the message `\"The patient's birth year is BIRTH_YEAR\"`, replacing BIRTH_YEAR with the relevant variable.\n",
        "\n",
        "<details>\n",
        "\n",
        "<summary><font color='red'><b>Click&nbsp;for&nbsp;SOLUTION</b></font></summary>\n",
        "\n",
        "```python\n",
        "age = input('Enter your age: ')\n",
        "current_year = input('Enter the current year: ')\n",
        "birth_year = int(current_year) - int(age)\n",
        "\n",
        "print(f\"The patient's birth year is {birth_year}\")\n",
        "```\n",
        "\n",
        "</details>"
      ],
      "metadata": {
        "id": "r_2vzHwFyWcW"
      }
    },
    {
      "cell_type": "code",
      "source": [
        ""
      ],
      "metadata": {
        "id": "k4Dufk4A3kCn"
      },
      "execution_count": null,
      "outputs": []
    },
    {
      "cell_type": "markdown",
      "metadata": {
        "id": "hkMQDCOOwrDR"
      },
      "source": [
        "# 💻 Project - Electronic Health Record\n",
        "\n",
        "For our first project, we will make a basic Electronic Health Record that will save the details of a patient in variables that could be used to build out the program.\n",
        "\n",
        "You are likely to get errors as you create your program - this is normal! Read through and do your best to fix them yourself / google the error. This is 90% the life of a programmer!\n",
        "\n",
        "NOTE: the first `input` and `print` have already been written for you.\n",
        "\n",
        "1. <input type=\"checkbox\"> Using the `input()` function, assign values for each of the following variables, with appropriate prompts. You will have to decide how to word prompts so users enter the correct information (just like in real life!):\n",
        "    - `first_name`\n",
        "    - `last_name`\n",
        "    - `NHS_number`\n",
        "    - `dob`\n",
        "    - `address_line_1`\n",
        "    - `address_line_2`\n",
        "    - `height` - make sure this is in metres!\n",
        "    - `weight`\n",
        "2. <input type=\"checkbox\"> Define a variable `BMI` that calculates the BMI from `height` and `weight`\n",
        "    - *NOTE: BMI = weight kg / (height) m<sup>2</sup>*\n",
        "3. <input type=\"checkbox\"> Using `f-strings`, print out the Health Record for the entered details in the following format:\n",
        "\n",
        "<pre>\n",
        "This is the record for FIRST_NAME LAST_NAME\n",
        "NHS Number: NHS_NUMBER\n",
        "Date of birth: DOB\n",
        "Address: ADDRESS_LINE_1, ADDRESS_LINE_2\n",
        "Height: HEIGHT m\n",
        "Weight: WEIGHT kg\n",
        "BMI: BMI kg/m2\n",
        "</pre>\n",
        "\n",
        "<details>\n",
        "\n",
        "<summary><font color='red'><b>Click&nbsp;for&nbsp;SOLUTION</b></font></summary>\n",
        "\n",
        "```python\n",
        "# write inputs here\n",
        "first_name = input(\"Enter patient's first name: \")\n",
        "last_name = input(\"Enter patient's last name: \")\n",
        "NHS_number = input(\"Enter the NHS Number: \")\n",
        "dob = input(\"Enter patient's Date of Birth in the following format: DD-MM-YYYY\")\n",
        "address_line_1 = input(\"Enter the patient's address Line 1: \")\n",
        "address_line_2 = input(\"Enter the patient's address Line 2: \")\n",
        "height = input(\"Enter the patient's height (in metres): \")\n",
        "weight = input(\"Enter the patient's weight (in kg): \")\n",
        "\n",
        "\n",
        "# work out BMI variable\n",
        "BMI = int(weight) / (int(height)**2)\n",
        "\n",
        "\n",
        "# Health Record printout\n",
        "print(f\"This is the record for {first_name} {last_name}\")\n",
        "print(f\"NHS Number: {NHS_number}\")\n",
        "print(f\"Date of birth: {dob}\")\n",
        "print(f\"Address: {address_line_1}, {address_line_2}\")\n",
        "print(f\"Height: {height} cm\")\n",
        "print(f\"Weight: {weight} kg\")\n",
        "print(f\"BMI: {BMI} kg/m2\")\n",
        "\n",
        "```\n",
        "\n",
        "</details>\n",
        "\n"
      ]
    },
    {
      "cell_type": "code",
      "execution_count": null,
      "metadata": {
        "id": "fyYNtI7YwrDS"
      },
      "outputs": [],
      "source": [
        "# write inputs here\n",
        "first_name = input(\"Enter patient's first name: \")\n",
        "\n",
        "\n",
        "# work out BMI variable\n",
        "\n",
        "\n",
        "# Health Record printout\n",
        "print(f\"This is the record for {first_name} {last_name}\")\n"
      ]
    }
  ],
  "metadata": {
    "kernelspec": {
      "display_name": "Python 3",
      "language": "python",
      "name": "python3"
    },
    "language_info": {
      "codemirror_mode": {
        "name": "ipython",
        "version": 3
      },
      "file_extension": ".py",
      "mimetype": "text/x-python",
      "name": "python",
      "nbconvert_exporter": "python",
      "pygments_lexer": "ipython3",
      "version": "3.9.3"
    },
    "colab": {
      "name": "Copy of Tutorial 1 - Coding Basics.ipynb",
      "provenance": [],
      "collapsed_sections": [],
      "include_colab_link": true
    }
  },
  "nbformat": 4,
  "nbformat_minor": 0
}
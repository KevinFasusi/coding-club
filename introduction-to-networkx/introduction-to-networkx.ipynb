{
 "cells": [
  {
   "attachments": {},
   "cell_type": "markdown",
   "metadata": {},
   "source": []
  },
  {
   "cell_type": "markdown",
   "metadata": {},
   "source": [
    "# Coding Club - NetworkX"
   ]
  },
  {
   "cell_type": "markdown",
   "metadata": {},
   "source": [
    "[![Open In Colab](https://colab.research.google.com/assets/colab-badge.svg)](https://colab.research.google.com/github/nhs-pycom/coding-club/blob/main/introduction-to-networkx/introduction-to-networkx.ipynb)"
   ]
  },
  {
   "cell_type": "markdown",
   "metadata": {},
   "source": [
    "This notebook gives a light introduction to `networkx`."
   ]
  },
  {
   "cell_type": "code",
   "execution_count": null,
   "metadata": {},
   "outputs": [],
   "source": [
    "import matplotlib.pyplot as plt\n",
    "import networkx as nx\n",
    "import pandas as pd\n",
    "import re\n",
    "\n",
    "print(nx.__version__)"
   ]
  },
  {
   "cell_type": "code",
   "execution_count": null,
   "metadata": {},
   "outputs": [],
   "source": [
    "G = nx.Graph()\n",
    "\n",
    "nx.draw(G)"
   ]
  },
  {
   "cell_type": "code",
   "execution_count": null,
   "metadata": {},
   "outputs": [],
   "source": []
  },
  {
   "cell_type": "code",
   "execution_count": null,
   "metadata": {},
   "outputs": [],
   "source": []
  },
  {
   "cell_type": "code",
   "execution_count": null,
   "metadata": {},
   "outputs": [],
   "source": []
  },
  {
   "cell_type": "code",
   "execution_count": null,
   "metadata": {},
   "outputs": [],
   "source": []
  },
  {
   "cell_type": "markdown",
   "metadata": {},
   "source": [
    "**Learning a Health Knowledge Graph from Electronic Medical Records. Nature Scientific Reports, 2017**\n",
    "\n",
    "*Maya Rotmensch, Yoni Halpern, Abdulhakim Tlimat, Steven Horng, and David Sontag.*\n",
    "\n",
    "[Paper](https://www.nature.com/articles/s41598-017-05778-z) | [GitHub](https://github.com/clinicalml/HealthKnowledgeGraph)\n",
    "\n",
    "#### Health Knowledge Graph (KG) for 157 diseases and 491 symptoms, learned from patients' data using a Noisy-OR Bayesian Network, as described in the paper."
   ]
  },
  {
   "cell_type": "code",
   "execution_count": null,
   "metadata": {},
   "outputs": [],
   "source": [
    "kg_url = 'https://raw.githubusercontent.com/clinicalml/HealthKnowledgeGraph/master/DerivedKnowledgeGraph_final.csv'\n",
    "\n",
    "df_kg = pd.read_csv(kg_url)\n",
    "\n",
    "df_kg.head()"
   ]
  },
  {
   "cell_type": "code",
   "execution_count": null,
   "metadata": {},
   "outputs": [],
   "source": [
    "df_kg['split_symptoms'] = df_kg['Symptoms'].apply(lambda elem: elem.split(','))\n",
    "df_kg['split_symptoms'] = df_kg['split_symptoms'].apply(\n",
    "    lambda elem: [(\n",
    "        ent.split('(')[0].strip(), \n",
    "        float(re.search(r'0.\\d{3}', ent)[0])\n",
    "    ) for ent in elem]\n",
    ")\n",
    "\n",
    "df_kg = df_kg.drop('Symptoms', axis=1)\n",
    "\n",
    "print(df_kg.shape)\n",
    "\n",
    "df_kg.head()"
   ]
  },
  {
   "cell_type": "code",
   "execution_count": null,
   "metadata": {},
   "outputs": [],
   "source": [
    "long_rows = []\n",
    "\n",
    "for n, row in df_kg.iterrows():\n",
    "    new_rows = list(zip(\n",
    "        [row['Diseases'] for i in range(len(row['split_symptoms']))],\n",
    "        [elem[0] for elem in row['split_symptoms']],\n",
    "        [elem[1] for elem in row['split_symptoms']]\n",
    "    ))\n",
    "    \n",
    "    long_rows.extend(new_rows)\n",
    "    \n",
    "df_kg_long = pd.DataFrame(\n",
    "    long_rows, \n",
    "    columns=('disease', 'symptom', 'score')\n",
    ")\n",
    "\n",
    "print(df_kg_long.shape)\n",
    "\n",
    "df_kg_long.head()"
   ]
  },
  {
   "cell_type": "code",
   "execution_count": null,
   "metadata": {},
   "outputs": [],
   "source": []
  }
 ],
 "metadata": {
  "kernelspec": {
   "display_name": "Python 3 (ipykernel)",
   "language": "python",
   "name": "python3"
  },
  "language_info": {
   "codemirror_mode": {
    "name": "ipython",
    "version": 3
   },
   "file_extension": ".py",
   "mimetype": "text/x-python",
   "name": "python",
   "nbconvert_exporter": "python",
   "pygments_lexer": "ipython3",
   "version": "3.7.12"
  }
 },
 "nbformat": 4,
 "nbformat_minor": 4
}
